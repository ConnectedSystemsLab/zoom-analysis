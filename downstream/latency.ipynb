{
 "cells": [
  {
   "cell_type": "code",
   "execution_count": 15,
   "metadata": {},
   "outputs": [],
   "source": [
    "import pandas as pd"
   ]
  },
  {
   "cell_type": "code",
   "execution_count": 16,
   "metadata": {},
   "outputs": [
    {
     "data": {
      "text/html": [
       "<div>\n",
       "<style scoped>\n",
       "    .dataframe tbody tr th:only-of-type {\n",
       "        vertical-align: middle;\n",
       "    }\n",
       "\n",
       "    .dataframe tbody tr th {\n",
       "        vertical-align: top;\n",
       "    }\n",
       "\n",
       "    .dataframe thead th {\n",
       "        text-align: right;\n",
       "    }\n",
       "</style>\n",
       "<table border=\"1\" class=\"dataframe\">\n",
       "  <thead>\n",
       "    <tr style=\"text-align: right;\">\n",
       "      <th></th>\n",
       "      <th>#ts_s</th>\n",
       "      <th>ts_us</th>\n",
       "      <th>dir</th>\n",
       "      <th>flow_type</th>\n",
       "      <th>ip_proto</th>\n",
       "      <th>ip_src</th>\n",
       "      <th>tp_src</th>\n",
       "      <th>ip_dst</th>\n",
       "      <th>tp_dst</th>\n",
       "      <th>media_type</th>\n",
       "      <th>pkts_in_frame</th>\n",
       "      <th>ssrc</th>\n",
       "      <th>pt</th>\n",
       "      <th>rtp_seq</th>\n",
       "      <th>rtp_ts</th>\n",
       "      <th>pl_len</th>\n",
       "      <th>rtp_ext1</th>\n",
       "      <th>drop</th>\n",
       "    </tr>\n",
       "  </thead>\n",
       "  <tbody>\n",
       "    <tr>\n",
       "      <th>0</th>\n",
       "      <td>1706055844</td>\n",
       "      <td>380329</td>\n",
       "      <td>u</td>\n",
       "      <td>s</td>\n",
       "      <td>17</td>\n",
       "      <td>172.22.243.228</td>\n",
       "      <td>60715</td>\n",
       "      <td>206.247.33.54</td>\n",
       "      <td>8801</td>\n",
       "      <td>v</td>\n",
       "      <td>1</td>\n",
       "      <td>16779265</td>\n",
       "      <td>98</td>\n",
       "      <td>51788</td>\n",
       "      <td>4266084018</td>\n",
       "      <td>735</td>\n",
       "      <td>0x500000</td>\n",
       "      <td>0</td>\n",
       "    </tr>\n",
       "    <tr>\n",
       "      <th>1</th>\n",
       "      <td>1706055844</td>\n",
       "      <td>383269</td>\n",
       "      <td>u</td>\n",
       "      <td>s</td>\n",
       "      <td>17</td>\n",
       "      <td>206.247.33.54</td>\n",
       "      <td>8801</td>\n",
       "      <td>172.22.243.228</td>\n",
       "      <td>60715</td>\n",
       "      <td>v</td>\n",
       "      <td>2</td>\n",
       "      <td>16780289</td>\n",
       "      <td>98</td>\n",
       "      <td>56303</td>\n",
       "      <td>4069920784</td>\n",
       "      <td>768</td>\n",
       "      <td>0x5ff777</td>\n",
       "      <td>0</td>\n",
       "    </tr>\n",
       "    <tr>\n",
       "      <th>2</th>\n",
       "      <td>1706055844</td>\n",
       "      <td>383307</td>\n",
       "      <td>u</td>\n",
       "      <td>s</td>\n",
       "      <td>17</td>\n",
       "      <td>206.247.33.54</td>\n",
       "      <td>8801</td>\n",
       "      <td>172.22.243.228</td>\n",
       "      <td>60715</td>\n",
       "      <td>v</td>\n",
       "      <td>2</td>\n",
       "      <td>16780289</td>\n",
       "      <td>98</td>\n",
       "      <td>56304</td>\n",
       "      <td>4069920784</td>\n",
       "      <td>768</td>\n",
       "      <td>0x5ff777</td>\n",
       "      <td>0</td>\n",
       "    </tr>\n",
       "    <tr>\n",
       "      <th>3</th>\n",
       "      <td>1706055844</td>\n",
       "      <td>423272</td>\n",
       "      <td>u</td>\n",
       "      <td>s</td>\n",
       "      <td>17</td>\n",
       "      <td>206.247.33.54</td>\n",
       "      <td>8801</td>\n",
       "      <td>172.22.243.228</td>\n",
       "      <td>60715</td>\n",
       "      <td>v</td>\n",
       "      <td>6</td>\n",
       "      <td>16780289</td>\n",
       "      <td>98</td>\n",
       "      <td>56305</td>\n",
       "      <td>4069924384</td>\n",
       "      <td>1078</td>\n",
       "      <td>0x500000</td>\n",
       "      <td>0</td>\n",
       "    </tr>\n",
       "    <tr>\n",
       "      <th>4</th>\n",
       "      <td>1706055844</td>\n",
       "      <td>424270</td>\n",
       "      <td>u</td>\n",
       "      <td>s</td>\n",
       "      <td>17</td>\n",
       "      <td>206.247.33.54</td>\n",
       "      <td>8801</td>\n",
       "      <td>172.22.243.228</td>\n",
       "      <td>60715</td>\n",
       "      <td>v</td>\n",
       "      <td>6</td>\n",
       "      <td>16780289</td>\n",
       "      <td>98</td>\n",
       "      <td>56306</td>\n",
       "      <td>4069924384</td>\n",
       "      <td>1078</td>\n",
       "      <td>0x500000</td>\n",
       "      <td>0</td>\n",
       "    </tr>\n",
       "  </tbody>\n",
       "</table>\n",
       "</div>"
      ],
      "text/plain": [
       "        #ts_s   ts_us dir flow_type  ip_proto          ip_src  tp_src  \\\n",
       "0  1706055844  380329   u         s        17  172.22.243.228   60715   \n",
       "1  1706055844  383269   u         s        17   206.247.33.54    8801   \n",
       "2  1706055844  383307   u         s        17   206.247.33.54    8801   \n",
       "3  1706055844  423272   u         s        17   206.247.33.54    8801   \n",
       "4  1706055844  424270   u         s        17   206.247.33.54    8801   \n",
       "\n",
       "           ip_dst  tp_dst media_type  pkts_in_frame      ssrc  pt  rtp_seq  \\\n",
       "0   206.247.33.54    8801          v              1  16779265  98    51788   \n",
       "1  172.22.243.228   60715          v              2  16780289  98    56303   \n",
       "2  172.22.243.228   60715          v              2  16780289  98    56304   \n",
       "3  172.22.243.228   60715          v              6  16780289  98    56305   \n",
       "4  172.22.243.228   60715          v              6  16780289  98    56306   \n",
       "\n",
       "       rtp_ts  pl_len  rtp_ext1  drop  \n",
       "0  4266084018     735  0x500000     0  \n",
       "1  4069920784     768  0x5ff777     0  \n",
       "2  4069920784     768  0x5ff777     0  \n",
       "3  4069924384    1078  0x500000     0  \n",
       "4  4069924384    1078  0x500000     0  "
      ]
     },
     "execution_count": 16,
     "metadata": {},
     "output_type": "execute_result"
    }
   ],
   "source": [
    "df=pd.read_csv('../build/packet.csv')\n",
    "df.head()"
   ]
  },
  {
   "cell_type": "code",
   "execution_count": 23,
   "metadata": {},
   "outputs": [
    {
     "name": "stdout",
     "output_type": "stream",
     "text": [
      "3588 4227\n"
     ]
    }
   ],
   "source": [
    "count=0\n",
    "groups=0\n",
    "latencies=[]\n",
    "for name,group in df.groupby('rtp_seq'):\n",
    "    groups+=1\n",
    "    if len(group) > 1:\n",
    "        count+=1\n",
    "        latencies.append(abs(group.iloc[1]['ts_us']-group.iloc[0]['ts_us'])+abs(group.iloc[1]['#ts_s']-group.iloc[0]['#ts_s'])*1000000)\n",
    "\n",
    "print(count,groups)"
   ]
  },
  {
   "cell_type": "code",
   "execution_count": 24,
   "metadata": {},
   "outputs": [
    {
     "data": {
      "text/plain": [
       "197.25604041248607"
      ]
     },
     "execution_count": 24,
     "metadata": {},
     "output_type": "execute_result"
    }
   ],
   "source": [
    "import numpy as np\n",
    "np.mean(latencies)/1000"
   ]
  },
  {
   "cell_type": "code",
   "execution_count": null,
   "metadata": {},
   "outputs": [],
   "source": []
  }
 ],
 "metadata": {
  "kernelspec": {
   "display_name": "zoom",
   "language": "python",
   "name": "python3"
  },
  "language_info": {
   "codemirror_mode": {
    "name": "ipython",
    "version": 3
   },
   "file_extension": ".py",
   "mimetype": "text/x-python",
   "name": "python",
   "nbconvert_exporter": "python",
   "pygments_lexer": "ipython3",
   "version": "3.12.1"
  }
 },
 "nbformat": 4,
 "nbformat_minor": 2
}
